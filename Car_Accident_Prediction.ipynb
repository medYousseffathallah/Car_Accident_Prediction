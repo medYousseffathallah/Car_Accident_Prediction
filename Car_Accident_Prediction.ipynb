{
  "nbformat": 4,
  "nbformat_minor": 0,
  "metadata": {
    "colab": {
      "provenance": []
    },
    "kernelspec": {
      "name": "python3",
      "display_name": "Python 3"
    },
    "language_info": {
      "name": "python"
    }
  },
  "cells": [
    {
      "cell_type": "code",
      "execution_count": null,
      "metadata": {
        "id": "ppNi95ULGFYD",
        "colab": {
          "base_uri": "https://localhost:8080/"
        },
        "outputId": "d711cbe3-acb2-4ce9-973c-a35de70a3a3d"
      },
      "outputs": [
        {
          "output_type": "stream",
          "name": "stderr",
          "text": [
            "<ipython-input-4-e2d2e47d30eb>:9: DtypeWarning: Columns (29,32) have mixed types. Specify dtype option on import or set low_memory=False.\n",
            "  df = pd.read_csv(\"/content/Traffic_Crashes_-_Crashes_20250420.csv\")\n"
          ]
        },
        {
          "output_type": "stream",
          "name": "stdout",
          "text": [
            "Meilleurs paramètres: {'max_depth': 7, 'min_samples_split': 5, 'n_estimators': 100}\n",
            "AUC-ROC: 1.00\n",
            "              precision    recall  f1-score   support\n",
            "\n",
            "           0       0.91      0.98      0.94     60381\n",
            "           1       0.99      0.92      0.95     75476\n",
            "\n",
            "    accuracy                           0.95    135857\n",
            "   macro avg       0.95      0.95      0.95    135857\n",
            "weighted avg       0.95      0.95      0.95    135857\n",
            "\n"
          ]
        },
        {
          "output_type": "execute_result",
          "data": {
            "text/plain": [
              "['model_features.joblib']"
            ]
          },
          "metadata": {},
          "execution_count": 4
        }
      ],
      "source": [
        "import pandas as pd\n",
        "from sklearn.ensemble import RandomForestClassifier\n",
        "from sklearn.model_selection import train_test_split, GridSearchCV\n",
        "from sklearn.metrics import roc_auc_score, classification_report\n",
        "import joblib\n",
        "from datetime import datetime\n",
        "\n",
        "\n",
        "df = pd.read_csv(\"/content/Traffic_Crashes_-_Crashes_.csv\")\n",
        "\n",
        "df = df.dropna(subset=[\"LATITUDE\", \"LONGITUDE\", \"CRASH_DATE\"])\n",
        "\n",
        "\n",
        "def parse_date(date_str):\n",
        "    formats = [\n",
        "        \"%m/%d/%Y %I:%M:%S %p\",\n",
        "        \"%m/%d/%Y %H:%M\",\n",
        "        \"%m/%d/%Y\"\n",
        "    ]\n",
        "    for fmt in formats:\n",
        "        try:\n",
        "            return datetime.strptime(date_str, fmt)\n",
        "        except ValueError:\n",
        "            continue\n",
        "    return pd.NaT\n",
        "\n",
        "df[\"CRASH_DATETIME\"] = df[\"CRASH_DATE\"].apply(parse_date)\n",
        "df = df.dropna(subset=[\"CRASH_DATETIME\"])\n",
        "df[\"CRASH_HOUR\"] = df[\"CRASH_DATETIME\"].dt.hour\n",
        "df[\"CRASH_DAY_OF_WEEK\"] = df[\"CRASH_DATETIME\"].dt.dayofweek\n",
        "\n",
        "\n",
        "features = [\n",
        "    \"POSTED_SPEED_LIMIT\",\n",
        "    \"WEATHER_CONDITION\",\n",
        "    \"LIGHTING_CONDITION\",\n",
        "    \"ROADWAY_SURFACE_COND\",\n",
        "    \"CRASH_HOUR\",\n",
        "    \"CRASH_DAY_OF_WEEK\",\n",
        "    \"LATITUDE\",\n",
        "    \"LONGITUDE\"\n",
        "]\n",
        "\n",
        "non_accident_data = df[features].copy().sample(frac=0.8, random_state=42)\n",
        "non_accident_data[\"POSTED_SPEED_LIMIT\"] *= 0.7\n",
        "non_accident_data[\"LIGHTING_CONDITION\"] = \"DAYLIGHT\"\n",
        "\n",
        "\n",
        "X = pd.concat([df[features], non_accident_data])\n",
        "y = [1]*len(df) + [0]*len(non_accident_data)\n",
        "\n",
        "X = pd.get_dummies(X, columns=[\n",
        "    \"WEATHER_CONDITION\",\n",
        "    \"LIGHTING_CONDITION\",\n",
        "    \"ROADWAY_SURFACE_COND\",\n",
        "    \"CRASH_DAY_OF_WEEK\"\n",
        "])\n",
        "\n",
        "param_grid = {\n",
        "    'n_estimators': [50, 100, 200],\n",
        "    'max_depth': [3, 5, 7],\n",
        "    'min_samples_split': [2, 5]\n",
        "}\n",
        "\n",
        "model = GridSearchCV(\n",
        "    RandomForestClassifier(class_weight=\"balanced\", random_state=42),\n",
        "    param_grid,\n",
        "    cv=3,\n",
        "    scoring='roc_auc'\n",
        ")\n",
        "model.fit(X, y)\n",
        "\n",
        "print(f\"Meilleurs paramètres: {model.best_params_}\")\n",
        "print(f\"AUC-ROC: {model.best_score_:.2f}\")\n",
        "\n",
        "print(classification_report(y, model.predict(X)))\n",
        "\n",
        "\n",
        "joblib.dump(model.best_estimator_, \"optimized_model.joblib\")\n",
        "joblib.dump(X.columns.tolist(), \"model_features.joblib\")"
      ]
    }
  ]
}